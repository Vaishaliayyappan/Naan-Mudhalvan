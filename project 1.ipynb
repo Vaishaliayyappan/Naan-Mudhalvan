{
  "nbformat": 4,
  "nbformat_minor": 0,
  "metadata": {
    "colab": {
      "provenance": []
    },
    "kernelspec": {
      "name": "python3",
      "display_name": "Python 3"
    },
    "language_info": {
      "name": "python"
    }
  },
  "cells": [
    {
      "cell_type": "code",
      "execution_count": 1,
      "metadata": {
        "colab": {
          "base_uri": "https://localhost:8080/"
        },
        "id": "N0V6yosL3RYL",
        "outputId": "06b7248e-b099-44fa-cbfd-ec0ee25b257a"
      },
      "outputs": [
        {
          "output_type": "stream",
          "name": "stdout",
          "text": [
            "Downloading data from https://storage.googleapis.com/tensorflow/tf-keras-datasets/imdb.npz\n",
            "17464789/17464789 [==============================] - 0s 0us/step\n",
            "Epoch 1/5\n",
            "196/196 [==============================] - 250s 1s/step - loss: 0.4387 - accuracy: 0.7854 - val_loss: 0.3272 - val_accuracy: 0.8601\n",
            "Epoch 2/5\n",
            "196/196 [==============================] - 248s 1s/step - loss: 0.2327 - accuracy: 0.9100 - val_loss: 0.3482 - val_accuracy: 0.8652\n",
            "Epoch 3/5\n",
            "196/196 [==============================] - 243s 1s/step - loss: 0.1765 - accuracy: 0.9350 - val_loss: 0.3362 - val_accuracy: 0.8667\n",
            "Epoch 4/5\n",
            "196/196 [==============================] - 244s 1s/step - loss: 0.1369 - accuracy: 0.9496 - val_loss: 0.3722 - val_accuracy: 0.8600\n",
            "Epoch 5/5\n",
            "196/196 [==============================] - 246s 1s/step - loss: 0.0972 - accuracy: 0.9656 - val_loss: 0.4198 - val_accuracy: 0.8544\n",
            "782/782 [==============================] - 99s 126ms/step - loss: 0.4198 - accuracy: 0.8544\n",
            "Test Accuracy: 0.8543599843978882\n"
          ]
        }
      ],
      "source": [
        "import numpy as np\n",
        "import tensorflow as tf\n",
        "from tensorflow.keras.datasets import imdb\n",
        "from tensorflow.keras.models import Sequential\n",
        "from tensorflow.keras.layers import Embedding, LSTM, Dense\n",
        "from tensorflow.keras.preprocessing.sequence import pad_sequences\n",
        "\n",
        "# Load the IMDb dataset\n",
        "vocab_size = 10000\n",
        "max_len = 200\n",
        "(x_train, y_train), (x_test, y_test) = imdb.load_data(num_words=vocab_size)\n",
        "\n",
        "# Pad sequences to make them of uniform length\n",
        "x_train = pad_sequences(x_train, maxlen=max_len)\n",
        "x_test = pad_sequences(x_test, maxlen=max_len)\n",
        "\n",
        "# Define the RNN model\n",
        "model = Sequential([\n",
        "    Embedding(input_dim=vocab_size, output_dim=128),\n",
        "    LSTM(units=128),\n",
        "    Dense(units=1, activation='sigmoid')\n",
        "])\n",
        "\n",
        "# Compile the model\n",
        "model.compile(optimizer='adam', loss='binary_crossentropy', metrics=['accuracy'])\n",
        "\n",
        "# Train the model\n",
        "model.fit(x_train, y_train, batch_size=128, epochs=5, validation_data=(x_test, y_test))\n",
        "\n",
        "# Evaluate the model\n",
        "loss, accuracy = model.evaluate(x_test, y_test)\n",
        "print(\"Test Accuracy:\", accuracy)\n"
      ]
    }
  ]
}